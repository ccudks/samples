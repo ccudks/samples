{
  "nbformat": 4,
  "nbformat_minor": 0,
  "metadata": {
    "colab": {
      "name": "SwiftUI學習筆記本.ipynb",
      "provenance": [],
      "authorship_tag": "ABX9TyPbtYmkrhvVthHepAWa988q",
      "include_colab_link": true
    },
    "kernelspec": {
      "name": "python3",
      "display_name": "Python 3"
    },
    "language_info": {
      "name": "python"
    }
  },
  "cells": [
    {
      "cell_type": "markdown",
      "metadata": {
        "id": "view-in-github",
        "colab_type": "text"
      },
      "source": [
        "<a href=\"https://colab.research.google.com/github/ccudks/samples/blob/master/SwiftUI%E5%AD%B8%E7%BF%92%E7%AD%86%E8%A8%98%E6%9C%AC.ipynb\" target=\"_parent\"><img src=\"https://colab.research.google.com/assets/colab-badge.svg\" alt=\"Open In Colab\"/></a>"
      ]
    },
    {
      "cell_type": "code",
      "execution_count": null,
      "metadata": {
        "id": "GtIHQTYDKcKq"
      },
      "outputs": [],
      "source": [
        ""
      ]
    },
    {
      "cell_type": "markdown",
      "source": [
        "# Lesson 1\n"
      ],
      "metadata": {
        "id": "V6Xu4gaHRq_q"
      }
    },
    {
      "cell_type": "markdown",
      "source": [
        "# Lesson 2\n"
      ],
      "metadata": {
        "id": "A7fcmnDtRuiN"
      }
    }
  ]
}